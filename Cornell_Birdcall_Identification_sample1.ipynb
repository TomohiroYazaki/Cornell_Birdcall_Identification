{
  "nbformat": 4,
  "nbformat_minor": 0,
  "metadata": {
    "colab": {
      "name": "Cornell_Birdcall_Identification_sample1.ipynb",
      "provenance": [],
      "machine_shape": "hm",
      "authorship_tag": "ABX9TyPwu0XpThPia8EYJ0BVglAz",
      "include_colab_link": true
    },
    "kernelspec": {
      "name": "python3",
      "display_name": "Python 3"
    },
    "accelerator": "GPU"
  },
  "cells": [
    {
      "cell_type": "markdown",
      "metadata": {
        "id": "view-in-github",
        "colab_type": "text"
      },
      "source": [
        "<a href=\"https://colab.research.google.com/github/TomohiroYazaki/Cornell_Birdcall_Identification/blob/master/Cornell_Birdcall_Identification_sample1.ipynb\" target=\"_parent\"><img src=\"https://colab.research.google.com/assets/colab-badge.svg\" alt=\"Open In Colab\"/></a>"
      ]
    },
    {
      "cell_type": "markdown",
      "metadata": {
        "id": "bHsfFfBbK3si",
        "colab_type": "text"
      },
      "source": [
        "Reference\n",
        "\n",
        "https://www.kaggle.com/hidehisaarai1213/inference-pytorch-birdcall-resnet-baseline"
      ]
    },
    {
      "cell_type": "code",
      "metadata": {
        "id": "wPPPqvUnQJrQ",
        "colab_type": "code",
        "colab": {
          "base_uri": "https://localhost:8080/",
          "height": 34
        },
        "outputId": "29c275df-29be-4c61-90dd-fa5d1cb2c8bc"
      },
      "source": [
        "from google.colab import drive \n",
        "drive.mount('/content/drive')"
      ],
      "execution_count": 1,
      "outputs": [
        {
          "output_type": "stream",
          "text": [
            "Drive already mounted at /content/drive; to attempt to forcibly remount, call drive.mount(\"/content/drive\", force_remount=True).\n"
          ],
          "name": "stdout"
        }
      ]
    },
    {
      "cell_type": "code",
      "metadata": {
        "id": "w2GjXvgvP6Fb",
        "colab_type": "code",
        "colab": {
          "base_uri": "https://localhost:8080/",
          "height": 153
        },
        "outputId": "87c1261c-5a1e-4563-caad-ba8ff449be25"
      },
      "source": [
        "!pip uninstall --yes soundfile\n",
        "!pip install soundfile"
      ],
      "execution_count": 2,
      "outputs": [
        {
          "output_type": "stream",
          "text": [
            "Uninstalling SoundFile-0.10.3.post1:\n",
            "  Successfully uninstalled SoundFile-0.10.3.post1\n",
            "Collecting soundfile\n",
            "  Using cached https://files.pythonhosted.org/packages/eb/f2/3cbbbf3b96fb9fa91582c438b574cff3f45b29c772f94c400e2c99ef5db9/SoundFile-0.10.3.post1-py2.py3-none-any.whl\n",
            "Requirement already satisfied: cffi>=1.0 in /usr/local/lib/python3.6/dist-packages (from soundfile) (1.14.1)\n",
            "Requirement already satisfied: pycparser in /usr/local/lib/python3.6/dist-packages (from cffi>=1.0->soundfile) (2.20)\n",
            "Installing collected packages: soundfile\n",
            "Successfully installed soundfile-0.10.3.post1\n"
          ],
          "name": "stdout"
        }
      ]
    },
    {
      "cell_type": "code",
      "metadata": {
        "id": "m46HhC5Lxc4a",
        "colab_type": "code",
        "colab": {}
      },
      "source": [
        "import cv2\n",
        "import audioread\n",
        "import logging\n",
        "import os\n",
        "import random\n",
        "import time\n",
        "import warnings\n",
        "\n",
        "import librosa\n",
        "import numpy as np\n",
        "import pandas as pd\n",
        "import soundfile as sf\n",
        "import torch\n",
        "import torch.nn as nn\n",
        "import torch.nn.functional as F\n",
        "import torch.utils.data as data\n",
        "\n",
        "from contextlib import contextmanager\n",
        "from pathlib import Path\n",
        "from typing import Optional\n",
        "\n",
        "from fastprogress import progress_bar\n",
        "from sklearn.metrics import f1_score\n",
        "from torchvision import models"
      ],
      "execution_count": 3,
      "outputs": []
    },
    {
      "cell_type": "code",
      "metadata": {
        "id": "qPa5lRf6xpEB",
        "colab_type": "code",
        "colab": {}
      },
      "source": [
        "def set_seed(seed: int = 42):\n",
        "    random.seed(seed)\n",
        "    np.random.seed(seed)\n",
        "    os.environ[\"PYTHONHASHSEED\"] = str(seed)\n",
        "    torch.manual_seed(seed)\n",
        "    torch.cuda.manual_seed(seed)  # type: ignore\n",
        "    torch.backends.cudnn.deterministic = True  # type: ignore\n",
        "    torch.backends.cudnn.benchmark = True  # type: ignore\n",
        "    \n",
        "    \n",
        "def get_logger(out_file=None):\n",
        "    logger = logging.getLogger()\n",
        "    formatter = logging.Formatter(\"%(asctime)s - %(levelname)s - %(message)s\")\n",
        "    logger.handlers = []\n",
        "    logger.setLevel(logging.INFO)\n",
        "\n",
        "    handler = logging.StreamHandler()\n",
        "    handler.setFormatter(formatter)\n",
        "    handler.setLevel(logging.INFO)\n",
        "    logger.addHandler(handler)\n",
        "\n",
        "    if out_file is not None:\n",
        "        fh = logging.FileHandler(out_file)\n",
        "        fh.setFormatter(formatter)\n",
        "        fh.setLevel(logging.INFO)\n",
        "        logger.addHandler(fh)\n",
        "    logger.info(\"logger set up\")\n",
        "    return logger\n",
        "    \n",
        "    \n",
        "@contextmanager\n",
        "def timer(name: str, logger: Optional[logging.Logger] = None):\n",
        "    t0 = time.time()\n",
        "    msg = f\"[{name}] start\"\n",
        "    if logger is None:\n",
        "        print(msg)\n",
        "    else:\n",
        "        logger.info(msg)\n",
        "    yield\n",
        "\n",
        "    msg = f\"[{name}] done in {time.time() - t0:.2f} s\"\n",
        "    if logger is None:\n",
        "        print(msg)\n",
        "    else:\n",
        "        logger.info(msg)"
      ],
      "execution_count": 4,
      "outputs": []
    },
    {
      "cell_type": "code",
      "metadata": {
        "id": "J80WSS5BxxCP",
        "colab_type": "code",
        "colab": {
          "base_uri": "https://localhost:8080/",
          "height": 34
        },
        "outputId": "76b9c45c-59bc-4bcb-98fe-9b588e738cbb"
      },
      "source": [
        "logger = get_logger(\"main.log\")\n",
        "set_seed(1213)"
      ],
      "execution_count": 5,
      "outputs": [
        {
          "output_type": "stream",
          "text": [
            "2020-08-15 00:39:42,570 - INFO - logger set up\n"
          ],
          "name": "stderr"
        }
      ]
    },
    {
      "cell_type": "code",
      "metadata": {
        "id": "7_8UuOztxzR1",
        "colab_type": "code",
        "colab": {}
      },
      "source": [
        "TARGET_SR = 32000\n",
        "TEST = Path(\"../input/birdsong-recognition/test_audio\").exists()"
      ],
      "execution_count": 6,
      "outputs": []
    },
    {
      "cell_type": "code",
      "metadata": {
        "id": "0cVWfSXSx1Lx",
        "colab_type": "code",
        "colab": {
          "base_uri": "https://localhost:8080/",
          "height": 204
        },
        "outputId": "f4b76f40-44ca-4517-e859-6f4a0486b06a"
      },
      "source": [
        "if TEST:\n",
        "    DATA_DIR = Path(\"../input/birdsong-recognition/\")\n",
        "else:\n",
        "    # dataset created by @shonenkov, thanks!\n",
        "    #DATA_DIR = Path(\"../input/birdcall-check/\")\n",
        "    DATA_DIR = Path(\"/content/drive/My Drive/Kaggle/birdsong-recognition/birdcall-check\")\n",
        "    \n",
        "\n",
        "test = pd.read_csv(DATA_DIR / \"test.csv\")\n",
        "test_audio = DATA_DIR / \"test_audio\"\n",
        "\n",
        "\n",
        "test.head()"
      ],
      "execution_count": 7,
      "outputs": [
        {
          "output_type": "execute_result",
          "data": {
            "text/html": [
              "<div>\n",
              "<style scoped>\n",
              "    .dataframe tbody tr th:only-of-type {\n",
              "        vertical-align: middle;\n",
              "    }\n",
              "\n",
              "    .dataframe tbody tr th {\n",
              "        vertical-align: top;\n",
              "    }\n",
              "\n",
              "    .dataframe thead th {\n",
              "        text-align: right;\n",
              "    }\n",
              "</style>\n",
              "<table border=\"1\" class=\"dataframe\">\n",
              "  <thead>\n",
              "    <tr style=\"text-align: right;\">\n",
              "      <th></th>\n",
              "      <th>site</th>\n",
              "      <th>row_id</th>\n",
              "      <th>seconds</th>\n",
              "      <th>audio_id</th>\n",
              "    </tr>\n",
              "  </thead>\n",
              "  <tbody>\n",
              "    <tr>\n",
              "      <th>0</th>\n",
              "      <td>site_1</td>\n",
              "      <td>site_1_41e6fe6504a34bf6846938ba78d13df1_5</td>\n",
              "      <td>5.0</td>\n",
              "      <td>41e6fe6504a34bf6846938ba78d13df1</td>\n",
              "    </tr>\n",
              "    <tr>\n",
              "      <th>1</th>\n",
              "      <td>site_1</td>\n",
              "      <td>site_1_41e6fe6504a34bf6846938ba78d13df1_10</td>\n",
              "      <td>10.0</td>\n",
              "      <td>41e6fe6504a34bf6846938ba78d13df1</td>\n",
              "    </tr>\n",
              "    <tr>\n",
              "      <th>2</th>\n",
              "      <td>site_1</td>\n",
              "      <td>site_1_41e6fe6504a34bf6846938ba78d13df1_15</td>\n",
              "      <td>15.0</td>\n",
              "      <td>41e6fe6504a34bf6846938ba78d13df1</td>\n",
              "    </tr>\n",
              "    <tr>\n",
              "      <th>3</th>\n",
              "      <td>site_1</td>\n",
              "      <td>site_1_41e6fe6504a34bf6846938ba78d13df1_20</td>\n",
              "      <td>20.0</td>\n",
              "      <td>41e6fe6504a34bf6846938ba78d13df1</td>\n",
              "    </tr>\n",
              "    <tr>\n",
              "      <th>4</th>\n",
              "      <td>site_1</td>\n",
              "      <td>site_1_41e6fe6504a34bf6846938ba78d13df1_25</td>\n",
              "      <td>25.0</td>\n",
              "      <td>41e6fe6504a34bf6846938ba78d13df1</td>\n",
              "    </tr>\n",
              "  </tbody>\n",
              "</table>\n",
              "</div>"
            ],
            "text/plain": [
              "     site  ...                          audio_id\n",
              "0  site_1  ...  41e6fe6504a34bf6846938ba78d13df1\n",
              "1  site_1  ...  41e6fe6504a34bf6846938ba78d13df1\n",
              "2  site_1  ...  41e6fe6504a34bf6846938ba78d13df1\n",
              "3  site_1  ...  41e6fe6504a34bf6846938ba78d13df1\n",
              "4  site_1  ...  41e6fe6504a34bf6846938ba78d13df1\n",
              "\n",
              "[5 rows x 4 columns]"
            ]
          },
          "metadata": {
            "tags": []
          },
          "execution_count": 7
        }
      ]
    },
    {
      "cell_type": "code",
      "metadata": {
        "id": "9XOov-TEx4AD",
        "colab_type": "code",
        "colab": {
          "base_uri": "https://localhost:8080/",
          "height": 34
        },
        "outputId": "2052b9b0-6d66-4233-fd21-40f857e43b0c"
      },
      "source": [
        "print(DATA_DIR)"
      ],
      "execution_count": 8,
      "outputs": [
        {
          "output_type": "stream",
          "text": [
            "/content/drive/My Drive/Kaggle/birdsong-recognition/birdcall-check\n"
          ],
          "name": "stdout"
        }
      ]
    },
    {
      "cell_type": "code",
      "metadata": {
        "id": "kaiM8B_lx5yu",
        "colab_type": "code",
        "colab": {}
      },
      "source": [
        "#sub = pd.read_csv(\"../input/birdsong-recognition/sample_submission.csv\")\n",
        "sub = pd.read_csv(\"/content/drive/My Drive/Kaggle/birdsong-recognition/sample_submission.csv\")\n",
        "sub.to_csv(\"submission.csv\", index=False)  # this will be overwritten if everything goes well"
      ],
      "execution_count": 9,
      "outputs": []
    },
    {
      "cell_type": "code",
      "metadata": {
        "id": "iClu3zPvx71D",
        "colab_type": "code",
        "colab": {}
      },
      "source": [
        "class ResNet(nn.Module):\n",
        "    def __init__(self, base_model_name: str, pretrained=False,\n",
        "                 num_classes=264):\n",
        "        super().__init__()\n",
        "        base_model = models.__getattribute__(base_model_name)(\n",
        "            pretrained=pretrained)\n",
        "        layers = list(base_model.children())[:-2]\n",
        "        #print(layers)\n",
        "        layers.append(nn.AdaptiveMaxPool2d(1))\n",
        "        #print(layers)\n",
        "        self.encoder = nn.Sequential(*layers)\n",
        "\n",
        "        in_features = base_model.fc.in_features\n",
        "        #print(in_features)\n",
        "\n",
        "        self.classifier = nn.Sequential(\n",
        "            nn.Linear(in_features, 1024), nn.ReLU(), nn.Dropout(p=0.2),\n",
        "            nn.Linear(1024, 1024), nn.ReLU(), nn.Dropout(p=0.2),\n",
        "            nn.Linear(1024, num_classes))\n",
        "\n",
        "    def forward(self, x):\n",
        "        batch_size = x.size(0)\n",
        "        x = self.encoder(x).view(batch_size, -1)\n",
        "        x = self.classifier(x)\n",
        "        multiclass_proba = F.softmax(x, dim=1)\n",
        "        multilabel_proba = F.sigmoid(x)\n",
        "        return {\n",
        "            \"logits\": x,\n",
        "            \"multiclass_proba\": multiclass_proba,\n",
        "            \"multilabel_proba\": multilabel_proba\n",
        "        }"
      ],
      "execution_count": 10,
      "outputs": []
    },
    {
      "cell_type": "code",
      "metadata": {
        "id": "-286oh9zx-EL",
        "colab_type": "code",
        "colab": {}
      },
      "source": [
        "model_config = {\n",
        "    \"base_model_name\": \"resnet50\",\n",
        "    \"pretrained\": False,\n",
        "    \"num_classes\": 264\n",
        "}\n",
        "\n",
        "melspectrogram_parameters = {\n",
        "    \"n_mels\": 128,\n",
        "    \"fmin\": 20,\n",
        "    \"fmax\": 16000\n",
        "}\n",
        "\n",
        "#weights_path = \"../input/birdcall-resnet50-init-weights/best.pth\"\n",
        "weights_path = \"/content/drive/My Drive/Kaggle/birdsong-recognition/input/birdcall-resnet50-init-weights/best.pth\"\n"
      ],
      "execution_count": 11,
      "outputs": []
    },
    {
      "cell_type": "code",
      "metadata": {
        "id": "0Tla0OWpyAA1",
        "colab_type": "code",
        "colab": {}
      },
      "source": [
        "BIRD_CODE = {\n",
        "    'aldfly': 0, 'ameavo': 1, 'amebit': 2, 'amecro': 3, 'amegfi': 4,\n",
        "    'amekes': 5, 'amepip': 6, 'amered': 7, 'amerob': 8, 'amewig': 9,\n",
        "    'amewoo': 10, 'amtspa': 11, 'annhum': 12, 'astfly': 13, 'baisan': 14,\n",
        "    'baleag': 15, 'balori': 16, 'banswa': 17, 'barswa': 18, 'bawwar': 19,\n",
        "    'belkin1': 20, 'belspa2': 21, 'bewwre': 22, 'bkbcuc': 23, 'bkbmag1': 24,\n",
        "    'bkbwar': 25, 'bkcchi': 26, 'bkchum': 27, 'bkhgro': 28, 'bkpwar': 29,\n",
        "    'bktspa': 30, 'blkpho': 31, 'blugrb1': 32, 'blujay': 33, 'bnhcow': 34,\n",
        "    'boboli': 35, 'bongul': 36, 'brdowl': 37, 'brebla': 38, 'brespa': 39,\n",
        "    'brncre': 40, 'brnthr': 41, 'brthum': 42, 'brwhaw': 43, 'btbwar': 44,\n",
        "    'btnwar': 45, 'btywar': 46, 'buffle': 47, 'buggna': 48, 'buhvir': 49,\n",
        "    'bulori': 50, 'bushti': 51, 'buwtea': 52, 'buwwar': 53, 'cacwre': 54,\n",
        "    'calgul': 55, 'calqua': 56, 'camwar': 57, 'cangoo': 58, 'canwar': 59,\n",
        "    'canwre': 60, 'carwre': 61, 'casfin': 62, 'caster1': 63, 'casvir': 64,\n",
        "    'cedwax': 65, 'chispa': 66, 'chiswi': 67, 'chswar': 68, 'chukar': 69,\n",
        "    'clanut': 70, 'cliswa': 71, 'comgol': 72, 'comgra': 73, 'comloo': 74,\n",
        "    'commer': 75, 'comnig': 76, 'comrav': 77, 'comred': 78, 'comter': 79,\n",
        "    'comyel': 80, 'coohaw': 81, 'coshum': 82, 'cowscj1': 83, 'daejun': 84,\n",
        "    'doccor': 85, 'dowwoo': 86, 'dusfly': 87, 'eargre': 88, 'easblu': 89,\n",
        "    'easkin': 90, 'easmea': 91, 'easpho': 92, 'eastow': 93, 'eawpew': 94,\n",
        "    'eucdov': 95, 'eursta': 96, 'evegro': 97, 'fiespa': 98, 'fiscro': 99,\n",
        "    'foxspa': 100, 'gadwal': 101, 'gcrfin': 102, 'gnttow': 103, 'gnwtea': 104,\n",
        "    'gockin': 105, 'gocspa': 106, 'goleag': 107, 'grbher3': 108, 'grcfly': 109,\n",
        "    'greegr': 110, 'greroa': 111, 'greyel': 112, 'grhowl': 113, 'grnher': 114,\n",
        "    'grtgra': 115, 'grycat': 116, 'gryfly': 117, 'haiwoo': 118, 'hamfly': 119,\n",
        "    'hergul': 120, 'herthr': 121, 'hoomer': 122, 'hoowar': 123, 'horgre': 124,\n",
        "    'horlar': 125, 'houfin': 126, 'houspa': 127, 'houwre': 128, 'indbun': 129,\n",
        "    'juntit1': 130, 'killde': 131, 'labwoo': 132, 'larspa': 133, 'lazbun': 134,\n",
        "    'leabit': 135, 'leafly': 136, 'leasan': 137, 'lecthr': 138, 'lesgol': 139,\n",
        "    'lesnig': 140, 'lesyel': 141, 'lewwoo': 142, 'linspa': 143, 'lobcur': 144,\n",
        "    'lobdow': 145, 'logshr': 146, 'lotduc': 147, 'louwat': 148, 'macwar': 149,\n",
        "    'magwar': 150, 'mallar3': 151, 'marwre': 152, 'merlin': 153, 'moublu': 154,\n",
        "    'mouchi': 155, 'moudov': 156, 'norcar': 157, 'norfli': 158, 'norhar2': 159,\n",
        "    'normoc': 160, 'norpar': 161, 'norpin': 162, 'norsho': 163, 'norwat': 164,\n",
        "    'nrwswa': 165, 'nutwoo': 166, 'olsfly': 167, 'orcwar': 168, 'osprey': 169,\n",
        "    'ovenbi1': 170, 'palwar': 171, 'pasfly': 172, 'pecsan': 173, 'perfal': 174,\n",
        "    'phaino': 175, 'pibgre': 176, 'pilwoo': 177, 'pingro': 178, 'pinjay': 179,\n",
        "    'pinsis': 180, 'pinwar': 181, 'plsvir': 182, 'prawar': 183, 'purfin': 184,\n",
        "    'pygnut': 185, 'rebmer': 186, 'rebnut': 187, 'rebsap': 188, 'rebwoo': 189,\n",
        "    'redcro': 190, 'redhea': 191, 'reevir1': 192, 'renpha': 193, 'reshaw': 194,\n",
        "    'rethaw': 195, 'rewbla': 196, 'ribgul': 197, 'rinduc': 198, 'robgro': 199,\n",
        "    'rocpig': 200, 'rocwre': 201, 'rthhum': 202, 'ruckin': 203, 'rudduc': 204,\n",
        "    'rufgro': 205, 'rufhum': 206, 'rusbla': 207, 'sagspa1': 208, 'sagthr': 209,\n",
        "    'savspa': 210, 'saypho': 211, 'scatan': 212, 'scoori': 213, 'semplo': 214,\n",
        "    'semsan': 215, 'sheowl': 216, 'shshaw': 217, 'snobun': 218, 'snogoo': 219,\n",
        "    'solsan': 220, 'sonspa': 221, 'sora': 222, 'sposan': 223, 'spotow': 224,\n",
        "    'stejay': 225, 'swahaw': 226, 'swaspa': 227, 'swathr': 228, 'treswa': 229,\n",
        "    'truswa': 230, 'tuftit': 231, 'tunswa': 232, 'veery': 233, 'vesspa': 234,\n",
        "    'vigswa': 235, 'warvir': 236, 'wesblu': 237, 'wesgre': 238, 'weskin': 239,\n",
        "    'wesmea': 240, 'wessan': 241, 'westan': 242, 'wewpew': 243, 'whbnut': 244,\n",
        "    'whcspa': 245, 'whfibi': 246, 'whtspa': 247, 'whtswi': 248, 'wilfly': 249,\n",
        "    'wilsni1': 250, 'wiltur': 251, 'winwre3': 252, 'wlswar': 253, 'wooduc': 254,\n",
        "    'wooscj2': 255, 'woothr': 256, 'y00475': 257, 'yebfly': 258, 'yebsap': 259,\n",
        "    'yehbla': 260, 'yelwar': 261, 'yerwar': 262, 'yetvir': 263\n",
        "}\n",
        "\n",
        "INV_BIRD_CODE = {v: k for k, v in BIRD_CODE.items()}\n"
      ],
      "execution_count": 12,
      "outputs": []
    },
    {
      "cell_type": "code",
      "metadata": {
        "id": "pwX3oa9qMX_q",
        "colab_type": "code",
        "colab": {
          "base_uri": "https://localhost:8080/",
          "height": 105
        },
        "outputId": "1d623f55-a572-4c75-9c28-9c39eb65efc2"
      },
      "source": [
        "print(INV_BIRD_CODE[263])\n",
        "print(type(INV_BIRD_CODE))\n",
        "print(type(BIRD_CODE))\n",
        "print(BIRD_CODE.items())"
      ],
      "execution_count": 13,
      "outputs": [
        {
          "output_type": "stream",
          "text": [
            "yetvir\n",
            "<class 'dict'>\n",
            "<class 'dict'>\n",
            "dict_items([('aldfly', 0), ('ameavo', 1), ('amebit', 2), ('amecro', 3), ('amegfi', 4), ('amekes', 5), ('amepip', 6), ('amered', 7), ('amerob', 8), ('amewig', 9), ('amewoo', 10), ('amtspa', 11), ('annhum', 12), ('astfly', 13), ('baisan', 14), ('baleag', 15), ('balori', 16), ('banswa', 17), ('barswa', 18), ('bawwar', 19), ('belkin1', 20), ('belspa2', 21), ('bewwre', 22), ('bkbcuc', 23), ('bkbmag1', 24), ('bkbwar', 25), ('bkcchi', 26), ('bkchum', 27), ('bkhgro', 28), ('bkpwar', 29), ('bktspa', 30), ('blkpho', 31), ('blugrb1', 32), ('blujay', 33), ('bnhcow', 34), ('boboli', 35), ('bongul', 36), ('brdowl', 37), ('brebla', 38), ('brespa', 39), ('brncre', 40), ('brnthr', 41), ('brthum', 42), ('brwhaw', 43), ('btbwar', 44), ('btnwar', 45), ('btywar', 46), ('buffle', 47), ('buggna', 48), ('buhvir', 49), ('bulori', 50), ('bushti', 51), ('buwtea', 52), ('buwwar', 53), ('cacwre', 54), ('calgul', 55), ('calqua', 56), ('camwar', 57), ('cangoo', 58), ('canwar', 59), ('canwre', 60), ('carwre', 61), ('casfin', 62), ('caster1', 63), ('casvir', 64), ('cedwax', 65), ('chispa', 66), ('chiswi', 67), ('chswar', 68), ('chukar', 69), ('clanut', 70), ('cliswa', 71), ('comgol', 72), ('comgra', 73), ('comloo', 74), ('commer', 75), ('comnig', 76), ('comrav', 77), ('comred', 78), ('comter', 79), ('comyel', 80), ('coohaw', 81), ('coshum', 82), ('cowscj1', 83), ('daejun', 84), ('doccor', 85), ('dowwoo', 86), ('dusfly', 87), ('eargre', 88), ('easblu', 89), ('easkin', 90), ('easmea', 91), ('easpho', 92), ('eastow', 93), ('eawpew', 94), ('eucdov', 95), ('eursta', 96), ('evegro', 97), ('fiespa', 98), ('fiscro', 99), ('foxspa', 100), ('gadwal', 101), ('gcrfin', 102), ('gnttow', 103), ('gnwtea', 104), ('gockin', 105), ('gocspa', 106), ('goleag', 107), ('grbher3', 108), ('grcfly', 109), ('greegr', 110), ('greroa', 111), ('greyel', 112), ('grhowl', 113), ('grnher', 114), ('grtgra', 115), ('grycat', 116), ('gryfly', 117), ('haiwoo', 118), ('hamfly', 119), ('hergul', 120), ('herthr', 121), ('hoomer', 122), ('hoowar', 123), ('horgre', 124), ('horlar', 125), ('houfin', 126), ('houspa', 127), ('houwre', 128), ('indbun', 129), ('juntit1', 130), ('killde', 131), ('labwoo', 132), ('larspa', 133), ('lazbun', 134), ('leabit', 135), ('leafly', 136), ('leasan', 137), ('lecthr', 138), ('lesgol', 139), ('lesnig', 140), ('lesyel', 141), ('lewwoo', 142), ('linspa', 143), ('lobcur', 144), ('lobdow', 145), ('logshr', 146), ('lotduc', 147), ('louwat', 148), ('macwar', 149), ('magwar', 150), ('mallar3', 151), ('marwre', 152), ('merlin', 153), ('moublu', 154), ('mouchi', 155), ('moudov', 156), ('norcar', 157), ('norfli', 158), ('norhar2', 159), ('normoc', 160), ('norpar', 161), ('norpin', 162), ('norsho', 163), ('norwat', 164), ('nrwswa', 165), ('nutwoo', 166), ('olsfly', 167), ('orcwar', 168), ('osprey', 169), ('ovenbi1', 170), ('palwar', 171), ('pasfly', 172), ('pecsan', 173), ('perfal', 174), ('phaino', 175), ('pibgre', 176), ('pilwoo', 177), ('pingro', 178), ('pinjay', 179), ('pinsis', 180), ('pinwar', 181), ('plsvir', 182), ('prawar', 183), ('purfin', 184), ('pygnut', 185), ('rebmer', 186), ('rebnut', 187), ('rebsap', 188), ('rebwoo', 189), ('redcro', 190), ('redhea', 191), ('reevir1', 192), ('renpha', 193), ('reshaw', 194), ('rethaw', 195), ('rewbla', 196), ('ribgul', 197), ('rinduc', 198), ('robgro', 199), ('rocpig', 200), ('rocwre', 201), ('rthhum', 202), ('ruckin', 203), ('rudduc', 204), ('rufgro', 205), ('rufhum', 206), ('rusbla', 207), ('sagspa1', 208), ('sagthr', 209), ('savspa', 210), ('saypho', 211), ('scatan', 212), ('scoori', 213), ('semplo', 214), ('semsan', 215), ('sheowl', 216), ('shshaw', 217), ('snobun', 218), ('snogoo', 219), ('solsan', 220), ('sonspa', 221), ('sora', 222), ('sposan', 223), ('spotow', 224), ('stejay', 225), ('swahaw', 226), ('swaspa', 227), ('swathr', 228), ('treswa', 229), ('truswa', 230), ('tuftit', 231), ('tunswa', 232), ('veery', 233), ('vesspa', 234), ('vigswa', 235), ('warvir', 236), ('wesblu', 237), ('wesgre', 238), ('weskin', 239), ('wesmea', 240), ('wessan', 241), ('westan', 242), ('wewpew', 243), ('whbnut', 244), ('whcspa', 245), ('whfibi', 246), ('whtspa', 247), ('whtswi', 248), ('wilfly', 249), ('wilsni1', 250), ('wiltur', 251), ('winwre3', 252), ('wlswar', 253), ('wooduc', 254), ('wooscj2', 255), ('woothr', 256), ('y00475', 257), ('yebfly', 258), ('yebsap', 259), ('yehbla', 260), ('yelwar', 261), ('yerwar', 262), ('yetvir', 263)])\n"
          ],
          "name": "stdout"
        }
      ]
    },
    {
      "cell_type": "code",
      "metadata": {
        "id": "KC9qzHblyB-U",
        "colab_type": "code",
        "colab": {}
      },
      "source": [
        "def mono_to_color(X: np.ndarray,\n",
        "                  mean=None,\n",
        "                  std=None,\n",
        "                  norm_max=None,\n",
        "                  norm_min=None,\n",
        "                  eps=1e-6):\n",
        "    \"\"\"\n",
        "    Code from https://www.kaggle.com/daisukelab/creating-fat2019-preprocessed-data\n",
        "    \"\"\"\n",
        "    # Stack X as [X,X,X]\n",
        "    X = np.stack([X, X, X], axis=-1)\n",
        "\n",
        "    # Standardize\n",
        "    mean = mean or X.mean()\n",
        "    X = X - mean\n",
        "    std = std or X.std()\n",
        "    Xstd = X / (std + eps)\n",
        "    _min, _max = Xstd.min(), Xstd.max()\n",
        "    norm_max = norm_max or _max\n",
        "    norm_min = norm_min or _min\n",
        "    if (_max - _min) > eps:\n",
        "        # Normalize to [0, 255]\n",
        "        V = Xstd\n",
        "        V[V < norm_min] = norm_min\n",
        "        V[V > norm_max] = norm_max\n",
        "        V = 255 * (V - norm_min) / (norm_max - norm_min)\n",
        "        V = V.astype(np.uint8)\n",
        "    else:\n",
        "        # Just zero\n",
        "        V = np.zeros_like(Xstd, dtype=np.uint8)\n",
        "    return V\n",
        "\n",
        "\n",
        "class TestDataset(data.Dataset):\n",
        "    def __init__(self, df: pd.DataFrame, clip: np.ndarray,\n",
        "                 img_size=224, melspectrogram_parameters={}):\n",
        "        self.df = df\n",
        "        self.clip = clip\n",
        "        self.img_size = img_size\n",
        "        self.melspectrogram_parameters = melspectrogram_parameters\n",
        "        \n",
        "    def __len__(self):\n",
        "        return len(self.df)\n",
        "    \n",
        "    def __getitem__(self, idx: int):\n",
        "        SR = 32000\n",
        "        sample = self.df.loc[idx, :]\n",
        "        site = sample.site\n",
        "        row_id = sample.row_id\n",
        "        \n",
        "        if site == \"site_3\":\n",
        "            y = self.clip.astype(np.float32)\n",
        "            len_y = len(y)\n",
        "            start = 0\n",
        "            end = SR * 5\n",
        "            images = []\n",
        "            while len_y > start:\n",
        "                y_batch = y[start:end].astype(np.float32)\n",
        "                if len(y_batch) != (SR * 5):\n",
        "                    break\n",
        "                start = end\n",
        "                end = end + SR * 5\n",
        "                \n",
        "                melspec = librosa.feature.melspectrogram(y_batch,\n",
        "                                                         sr=SR,\n",
        "                                                         **self.melspectrogram_parameters)\n",
        "                melspec = librosa.power_to_db(melspec).astype(np.float32)\n",
        "                image = mono_to_color(melspec)\n",
        "                height, width, _ = image.shape\n",
        "                image = cv2.resize(image, (int(width * self.img_size / height), self.img_size))\n",
        "                image = np.moveaxis(image, 2, 0)\n",
        "                image = (image / 255.0).astype(np.float32)\n",
        "                images.append(image)\n",
        "            images = np.asarray(images)\n",
        "            return images, row_id, site\n",
        "        else:\n",
        "            end_seconds = int(sample.seconds)\n",
        "            start_seconds = int(end_seconds - 5)\n",
        "            \n",
        "            start_index = SR * start_seconds\n",
        "            end_index = SR * end_seconds\n",
        "            \n",
        "            y = self.clip[start_index:end_index].astype(np.float32)\n",
        "\n",
        "            melspec = librosa.feature.melspectrogram(y, sr=SR, **self.melspectrogram_parameters)\n",
        "            melspec = librosa.power_to_db(melspec).astype(np.float32)\n",
        "\n",
        "            image = mono_to_color(melspec)\n",
        "            height, width, _ = image.shape\n",
        "            image = cv2.resize(image, (int(width * self.img_size / height), self.img_size))\n",
        "            image = np.moveaxis(image, 2, 0)\n",
        "            image = (image / 255.0).astype(np.float32)\n",
        "\n",
        "            return image, row_id, site"
      ],
      "execution_count": 14,
      "outputs": []
    },
    {
      "cell_type": "code",
      "metadata": {
        "id": "c3_OH6NhyEWN",
        "colab_type": "code",
        "colab": {}
      },
      "source": [
        "def get_model(config: dict, weights_path: str):\n",
        "    model = ResNet(**config)\n",
        "    checkpoint = torch.load(weights_path)\n",
        "    #print(type(checkpoint))\n",
        "    #print(checkpoint)\n",
        "    model.load_state_dict(checkpoint[\"model_state_dict\"])\n",
        "    device = torch.device(\"cuda\")\n",
        "    model.to(device)\n",
        "    model.eval()\n",
        "    return model"
      ],
      "execution_count": 15,
      "outputs": []
    },
    {
      "cell_type": "code",
      "metadata": {
        "id": "uJvaxbe6yF-q",
        "colab_type": "code",
        "colab": {}
      },
      "source": [
        "def prediction_for_clip(test_df: pd.DataFrame, \n",
        "                        clip: np.ndarray, \n",
        "                        model: ResNet, \n",
        "                        mel_params: dict, \n",
        "                        threshold=0.5):\n",
        "\n",
        "    dataset = TestDataset(df=test_df, \n",
        "                          clip=clip,\n",
        "                          img_size=224,\n",
        "                          melspectrogram_parameters=mel_params)\n",
        "    loader = data.DataLoader(dataset, batch_size=1, shuffle=False)\n",
        "    device = torch.device(\"cuda\" if torch.cuda.is_available() else \"cpu\")\n",
        "    \n",
        "    model.eval()\n",
        "    prediction_dict = {}\n",
        "    for image, row_id, site in progress_bar(loader):\n",
        "        site = site[0]\n",
        "        row_id = row_id[0]\n",
        "        if site in {\"site_1\", \"site_2\"}:\n",
        "            image = image.to(device)\n",
        "\n",
        "            with torch.no_grad():\n",
        "                prediction = model(image)\n",
        "                proba = prediction[\"multilabel_proba\"].detach().cpu().numpy().reshape(-1)\n",
        "\n",
        "            events = proba >= threshold\n",
        "            labels = np.argwhere(events).reshape(-1).tolist()\n",
        "\n",
        "        else:\n",
        "            # to avoid prediction on large batch\n",
        "            image = image.squeeze(0)\n",
        "            batch_size = 16\n",
        "            whole_size = image.size(0)\n",
        "            if whole_size % batch_size == 0:\n",
        "                n_iter = whole_size // batch_size\n",
        "            else:\n",
        "                n_iter = whole_size // batch_size + 1\n",
        "                \n",
        "            all_events = set()\n",
        "            for batch_i in range(n_iter):\n",
        "                batch = image[batch_i * batch_size:(batch_i + 1) * batch_size]\n",
        "                if batch.ndim == 3:\n",
        "                    batch = batch.unsqueeze(0)\n",
        "\n",
        "                batch = batch.to(device)\n",
        "                with torch.no_grad():\n",
        "                    prediction = model(batch)\n",
        "                    proba = prediction[\"multilabel_proba\"].detach().cpu().numpy()\n",
        "                    \n",
        "                events = proba >= threshold\n",
        "                for i in range(len(events)):\n",
        "                    event = events[i, :]\n",
        "                    labels = np.argwhere(event).reshape(-1).tolist()\n",
        "                    for label in labels:\n",
        "                        all_events.add(label)\n",
        "                        \n",
        "            labels = list(all_events)\n",
        "        if len(labels) == 0:\n",
        "            prediction_dict[row_id] = \"nocall\"\n",
        "        else:\n",
        "            labels_str_list = list(map(lambda x: INV_BIRD_CODE[x], labels))\n",
        "            label_string = \" \".join(labels_str_list)\n",
        "            prediction_dict[row_id] = label_string\n",
        "    return prediction_dict"
      ],
      "execution_count": 16,
      "outputs": []
    },
    {
      "cell_type": "code",
      "metadata": {
        "id": "oR61lNBhyIRn",
        "colab_type": "code",
        "colab": {}
      },
      "source": [
        "def prediction(test_df: pd.DataFrame,\n",
        "               test_audio: Path,\n",
        "               model_config: dict,\n",
        "               mel_params: dict,\n",
        "               weights_path: str,\n",
        "               threshold=0.5):\n",
        "    model = get_model(model_config, weights_path)\n",
        "    unique_audio_id = test_df.audio_id.unique()\n",
        "\n",
        "    warnings.filterwarnings(\"ignore\")\n",
        "    prediction_dfs = []\n",
        "    for audio_id in unique_audio_id:\n",
        "        with timer(f\"Loading {audio_id}\", logger):\n",
        "            clip, _ = librosa.load(test_audio / (audio_id + \".mp3\"),\n",
        "                                   sr=TARGET_SR,\n",
        "                                   mono=True,\n",
        "                                   res_type=\"kaiser_fast\")\n",
        "        \n",
        "        test_df_for_audio_id = test_df.query(\n",
        "            f\"audio_id == '{audio_id}'\").reset_index(drop=True)\n",
        "        with timer(f\"Prediction on {audio_id}\", logger):\n",
        "            prediction_dict = prediction_for_clip(test_df_for_audio_id,\n",
        "                                                  clip=clip,\n",
        "                                                  model=model,\n",
        "                                                  mel_params=mel_params,\n",
        "                                                  threshold=threshold)\n",
        "        row_id = list(prediction_dict.keys())\n",
        "        birds = list(prediction_dict.values())\n",
        "        prediction_df = pd.DataFrame({\n",
        "            \"row_id\": row_id,\n",
        "            \"birds\": birds\n",
        "        })\n",
        "        prediction_dfs.append(prediction_df)\n",
        "    \n",
        "    prediction_df = pd.concat(prediction_dfs, axis=0, sort=False).reset_index(drop=True)\n",
        "    return prediction_df"
      ],
      "execution_count": 17,
      "outputs": []
    },
    {
      "cell_type": "code",
      "metadata": {
        "id": "YaqxUXN3yKJt",
        "colab_type": "code",
        "colab": {
          "base_uri": "https://localhost:8080/",
          "height": 1000
        },
        "outputId": "d358be2d-bc00-40f5-bd8f-bee185452ac0"
      },
      "source": [
        "submission = prediction(test_df=test,\n",
        "                        test_audio=test_audio,\n",
        "                        model_config=model_config,\n",
        "                        mel_params=melspectrogram_parameters,\n",
        "                        weights_path=weights_path,\n",
        "                        threshold=0.8)\n",
        "submission.to_csv(\"submission.csv\", index=False)"
      ],
      "execution_count": 18,
      "outputs": [
        {
          "output_type": "stream",
          "text": [
            "2020-08-15 00:39:46,761 - INFO - [Loading 41e6fe6504a34bf6846938ba78d13df1] start\n"
          ],
          "name": "stderr"
        },
        {
          "output_type": "stream",
          "text": [
            "<class 'dict'>\n"
          ],
          "name": "stdout"
        },
        {
          "output_type": "stream",
          "text": [
            "2020-08-15 00:39:47,821 - INFO - [Loading 41e6fe6504a34bf6846938ba78d13df1] done in 1.06 s\n",
            "2020-08-15 00:39:47,828 - INFO - NumExpr defaulting to 4 threads.\n",
            "2020-08-15 00:39:47,834 - INFO - [Prediction on 41e6fe6504a34bf6846938ba78d13df1] start\n"
          ],
          "name": "stderr"
        },
        {
          "output_type": "display_data",
          "data": {
            "text/html": [
              "\n",
              "    <div>\n",
              "        <style>\n",
              "            /* Turns off some styling */\n",
              "            progress {\n",
              "                /* gets rid of default border in Firefox and Opera. */\n",
              "                border: none;\n",
              "                /* Needs to be in here for Safari polyfill so background images work as expected. */\n",
              "                background-size: auto;\n",
              "            }\n",
              "            .progress-bar-interrupted, .progress-bar-interrupted::-webkit-progress-bar {\n",
              "                background: #F44336;\n",
              "            }\n",
              "        </style>\n",
              "      <progress value='5' class='' max='5' style='width:300px; height:20px; vertical-align: middle;'></progress>\n",
              "      100.00% [5/5 00:01<00:00]\n",
              "    </div>\n",
              "    "
            ],
            "text/plain": [
              "<IPython.core.display.HTML object>"
            ]
          },
          "metadata": {
            "tags": []
          }
        },
        {
          "output_type": "stream",
          "text": [
            "2020-08-15 00:39:49,740 - INFO - [Prediction on 41e6fe6504a34bf6846938ba78d13df1] done in 1.91 s\n",
            "2020-08-15 00:39:49,742 - INFO - [Loading cce64fffafed40f2b2f3d3413ec1c4c2] start\n",
            "2020-08-15 00:39:50,503 - INFO - [Loading cce64fffafed40f2b2f3d3413ec1c4c2] done in 0.76 s\n",
            "2020-08-15 00:39:50,509 - INFO - [Prediction on cce64fffafed40f2b2f3d3413ec1c4c2] start\n"
          ],
          "name": "stderr"
        },
        {
          "output_type": "display_data",
          "data": {
            "text/html": [
              "\n",
              "    <div>\n",
              "        <style>\n",
              "            /* Turns off some styling */\n",
              "            progress {\n",
              "                /* gets rid of default border in Firefox and Opera. */\n",
              "                border: none;\n",
              "                /* Needs to be in here for Safari polyfill so background images work as expected. */\n",
              "                background-size: auto;\n",
              "            }\n",
              "            .progress-bar-interrupted, .progress-bar-interrupted::-webkit-progress-bar {\n",
              "                background: #F44336;\n",
              "            }\n",
              "        </style>\n",
              "      <progress value='7' class='' max='7' style='width:300px; height:20px; vertical-align: middle;'></progress>\n",
              "      100.00% [7/7 00:00<00:00]\n",
              "    </div>\n",
              "    "
            ],
            "text/plain": [
              "<IPython.core.display.HTML object>"
            ]
          },
          "metadata": {
            "tags": []
          }
        },
        {
          "output_type": "stream",
          "text": [
            "2020-08-15 00:39:50,922 - INFO - [Prediction on cce64fffafed40f2b2f3d3413ec1c4c2] done in 0.41 s\n",
            "2020-08-15 00:39:50,929 - INFO - [Loading 99af324c881246949408c0b1ae54271f] start\n",
            "2020-08-15 00:39:51,732 - INFO - [Loading 99af324c881246949408c0b1ae54271f] done in 0.80 s\n",
            "2020-08-15 00:39:51,737 - INFO - [Prediction on 99af324c881246949408c0b1ae54271f] start\n"
          ],
          "name": "stderr"
        },
        {
          "output_type": "display_data",
          "data": {
            "text/html": [
              "\n",
              "    <div>\n",
              "        <style>\n",
              "            /* Turns off some styling */\n",
              "            progress {\n",
              "                /* gets rid of default border in Firefox and Opera. */\n",
              "                border: none;\n",
              "                /* Needs to be in here for Safari polyfill so background images work as expected. */\n",
              "                background-size: auto;\n",
              "            }\n",
              "            .progress-bar-interrupted, .progress-bar-interrupted::-webkit-progress-bar {\n",
              "                background: #F44336;\n",
              "            }\n",
              "        </style>\n",
              "      <progress value='7' class='' max='7' style='width:300px; height:20px; vertical-align: middle;'></progress>\n",
              "      100.00% [7/7 00:00<00:00]\n",
              "    </div>\n",
              "    "
            ],
            "text/plain": [
              "<IPython.core.display.HTML object>"
            ]
          },
          "metadata": {
            "tags": []
          }
        },
        {
          "output_type": "stream",
          "text": [
            "2020-08-15 00:39:52,137 - INFO - [Prediction on 99af324c881246949408c0b1ae54271f] done in 0.40 s\n",
            "2020-08-15 00:39:52,139 - INFO - [Loading 6ab74e177aa149468a39ca10beed6222] start\n",
            "2020-08-15 00:39:52,841 - INFO - [Loading 6ab74e177aa149468a39ca10beed6222] done in 0.70 s\n",
            "2020-08-15 00:39:52,847 - INFO - [Prediction on 6ab74e177aa149468a39ca10beed6222] start\n"
          ],
          "name": "stderr"
        },
        {
          "output_type": "display_data",
          "data": {
            "text/html": [
              "\n",
              "    <div>\n",
              "        <style>\n",
              "            /* Turns off some styling */\n",
              "            progress {\n",
              "                /* gets rid of default border in Firefox and Opera. */\n",
              "                border: none;\n",
              "                /* Needs to be in here for Safari polyfill so background images work as expected. */\n",
              "                background-size: auto;\n",
              "            }\n",
              "            .progress-bar-interrupted, .progress-bar-interrupted::-webkit-progress-bar {\n",
              "                background: #F44336;\n",
              "            }\n",
              "        </style>\n",
              "      <progress value='6' class='' max='6' style='width:300px; height:20px; vertical-align: middle;'></progress>\n",
              "      100.00% [6/6 00:00<00:00]\n",
              "    </div>\n",
              "    "
            ],
            "text/plain": [
              "<IPython.core.display.HTML object>"
            ]
          },
          "metadata": {
            "tags": []
          }
        },
        {
          "output_type": "stream",
          "text": [
            "2020-08-15 00:39:53,133 - INFO - [Prediction on 6ab74e177aa149468a39ca10beed6222] done in 0.29 s\n",
            "2020-08-15 00:39:53,138 - INFO - [Loading b2fd3f01e9284293a1e33f9c811a2ed6] start\n",
            "2020-08-15 00:39:53,894 - INFO - [Loading b2fd3f01e9284293a1e33f9c811a2ed6] done in 0.76 s\n",
            "2020-08-15 00:39:53,899 - INFO - [Prediction on b2fd3f01e9284293a1e33f9c811a2ed6] start\n"
          ],
          "name": "stderr"
        },
        {
          "output_type": "display_data",
          "data": {
            "text/html": [
              "\n",
              "    <div>\n",
              "        <style>\n",
              "            /* Turns off some styling */\n",
              "            progress {\n",
              "                /* gets rid of default border in Firefox and Opera. */\n",
              "                border: none;\n",
              "                /* Needs to be in here for Safari polyfill so background images work as expected. */\n",
              "                background-size: auto;\n",
              "            }\n",
              "            .progress-bar-interrupted, .progress-bar-interrupted::-webkit-progress-bar {\n",
              "                background: #F44336;\n",
              "            }\n",
              "        </style>\n",
              "      <progress value='7' class='' max='7' style='width:300px; height:20px; vertical-align: middle;'></progress>\n",
              "      100.00% [7/7 00:00<00:00]\n",
              "    </div>\n",
              "    "
            ],
            "text/plain": [
              "<IPython.core.display.HTML object>"
            ]
          },
          "metadata": {
            "tags": []
          }
        },
        {
          "output_type": "stream",
          "text": [
            "2020-08-15 00:39:54,196 - INFO - [Prediction on b2fd3f01e9284293a1e33f9c811a2ed6] done in 0.30 s\n",
            "2020-08-15 00:39:54,199 - INFO - [Loading de62b37ebba749d2abf29d4a493ea5d4] start\n",
            "2020-08-15 00:39:54,621 - INFO - [Loading de62b37ebba749d2abf29d4a493ea5d4] done in 0.42 s\n",
            "2020-08-15 00:39:54,627 - INFO - [Prediction on de62b37ebba749d2abf29d4a493ea5d4] start\n"
          ],
          "name": "stderr"
        },
        {
          "output_type": "display_data",
          "data": {
            "text/html": [
              "\n",
              "    <div>\n",
              "        <style>\n",
              "            /* Turns off some styling */\n",
              "            progress {\n",
              "                /* gets rid of default border in Firefox and Opera. */\n",
              "                border: none;\n",
              "                /* Needs to be in here for Safari polyfill so background images work as expected. */\n",
              "                background-size: auto;\n",
              "            }\n",
              "            .progress-bar-interrupted, .progress-bar-interrupted::-webkit-progress-bar {\n",
              "                background: #F44336;\n",
              "            }\n",
              "        </style>\n",
              "      <progress value='1' class='' max='1' style='width:300px; height:20px; vertical-align: middle;'></progress>\n",
              "      100.00% [1/1 00:00<00:00]\n",
              "    </div>\n",
              "    "
            ],
            "text/plain": [
              "<IPython.core.display.HTML object>"
            ]
          },
          "metadata": {
            "tags": []
          }
        },
        {
          "output_type": "stream",
          "text": [
            "2020-08-15 00:39:54,674 - INFO - [Prediction on de62b37ebba749d2abf29d4a493ea5d4] done in 0.05 s\n",
            "2020-08-15 00:39:54,677 - INFO - [Loading 8680a8dd845d40f296246dbed0d37394] start\n",
            "2020-08-15 00:39:55,550 - INFO - [Loading 8680a8dd845d40f296246dbed0d37394] done in 0.87 s\n",
            "2020-08-15 00:39:55,557 - INFO - [Prediction on 8680a8dd845d40f296246dbed0d37394] start\n"
          ],
          "name": "stderr"
        },
        {
          "output_type": "display_data",
          "data": {
            "text/html": [
              "\n",
              "    <div>\n",
              "        <style>\n",
              "            /* Turns off some styling */\n",
              "            progress {\n",
              "                /* gets rid of default border in Firefox and Opera. */\n",
              "                border: none;\n",
              "                /* Needs to be in here for Safari polyfill so background images work as expected. */\n",
              "                background-size: auto;\n",
              "            }\n",
              "            .progress-bar-interrupted, .progress-bar-interrupted::-webkit-progress-bar {\n",
              "                background: #F44336;\n",
              "            }\n",
              "        </style>\n",
              "      <progress value='9' class='' max='9' style='width:300px; height:20px; vertical-align: middle;'></progress>\n",
              "      100.00% [9/9 00:00<00:00]\n",
              "    </div>\n",
              "    "
            ],
            "text/plain": [
              "<IPython.core.display.HTML object>"
            ]
          },
          "metadata": {
            "tags": []
          }
        },
        {
          "output_type": "stream",
          "text": [
            "2020-08-15 00:39:55,973 - INFO - [Prediction on 8680a8dd845d40f296246dbed0d37394] done in 0.42 s\n",
            "2020-08-15 00:39:55,979 - INFO - [Loading 940d546e5eb745c9a74bce3f35efa1f9] start\n",
            "2020-08-15 00:39:57,189 - INFO - [Loading 940d546e5eb745c9a74bce3f35efa1f9] done in 1.21 s\n",
            "2020-08-15 00:39:57,196 - INFO - [Prediction on 940d546e5eb745c9a74bce3f35efa1f9] start\n"
          ],
          "name": "stderr"
        },
        {
          "output_type": "display_data",
          "data": {
            "text/html": [
              "\n",
              "    <div>\n",
              "        <style>\n",
              "            /* Turns off some styling */\n",
              "            progress {\n",
              "                /* gets rid of default border in Firefox and Opera. */\n",
              "                border: none;\n",
              "                /* Needs to be in here for Safari polyfill so background images work as expected. */\n",
              "                background-size: auto;\n",
              "            }\n",
              "            .progress-bar-interrupted, .progress-bar-interrupted::-webkit-progress-bar {\n",
              "                background: #F44336;\n",
              "            }\n",
              "        </style>\n",
              "      <progress value='14' class='' max='14' style='width:300px; height:20px; vertical-align: middle;'></progress>\n",
              "      100.00% [14/14 00:00<00:00]\n",
              "    </div>\n",
              "    "
            ],
            "text/plain": [
              "<IPython.core.display.HTML object>"
            ]
          },
          "metadata": {
            "tags": []
          }
        },
        {
          "output_type": "stream",
          "text": [
            "2020-08-15 00:39:57,796 - INFO - [Prediction on 940d546e5eb745c9a74bce3f35efa1f9] done in 0.60 s\n",
            "2020-08-15 00:39:57,798 - INFO - [Loading 07ab324c602e4afab65ddbcc746c31b5] start\n",
            "2020-08-15 00:39:58,452 - INFO - [Loading 07ab324c602e4afab65ddbcc746c31b5] done in 0.65 s\n",
            "2020-08-15 00:39:58,457 - INFO - [Prediction on 07ab324c602e4afab65ddbcc746c31b5] start\n"
          ],
          "name": "stderr"
        },
        {
          "output_type": "display_data",
          "data": {
            "text/html": [
              "\n",
              "    <div>\n",
              "        <style>\n",
              "            /* Turns off some styling */\n",
              "            progress {\n",
              "                /* gets rid of default border in Firefox and Opera. */\n",
              "                border: none;\n",
              "                /* Needs to be in here for Safari polyfill so background images work as expected. */\n",
              "                background-size: auto;\n",
              "            }\n",
              "            .progress-bar-interrupted, .progress-bar-interrupted::-webkit-progress-bar {\n",
              "                background: #F44336;\n",
              "            }\n",
              "        </style>\n",
              "      <progress value='5' class='' max='5' style='width:300px; height:20px; vertical-align: middle;'></progress>\n",
              "      100.00% [5/5 00:00<00:00]\n",
              "    </div>\n",
              "    "
            ],
            "text/plain": [
              "<IPython.core.display.HTML object>"
            ]
          },
          "metadata": {
            "tags": []
          }
        },
        {
          "output_type": "stream",
          "text": [
            "2020-08-15 00:39:58,675 - INFO - [Prediction on 07ab324c602e4afab65ddbcc746c31b5] done in 0.22 s\n",
            "2020-08-15 00:39:58,677 - INFO - [Loading 899616723a32409c996f6f3441646c2a] start\n",
            "2020-08-15 00:39:59,617 - INFO - [Loading 899616723a32409c996f6f3441646c2a] done in 0.94 s\n",
            "2020-08-15 00:39:59,624 - INFO - [Prediction on 899616723a32409c996f6f3441646c2a] start\n"
          ],
          "name": "stderr"
        },
        {
          "output_type": "display_data",
          "data": {
            "text/html": [
              "\n",
              "    <div>\n",
              "        <style>\n",
              "            /* Turns off some styling */\n",
              "            progress {\n",
              "                /* gets rid of default border in Firefox and Opera. */\n",
              "                border: none;\n",
              "                /* Needs to be in here for Safari polyfill so background images work as expected. */\n",
              "                background-size: auto;\n",
              "            }\n",
              "            .progress-bar-interrupted, .progress-bar-interrupted::-webkit-progress-bar {\n",
              "                background: #F44336;\n",
              "            }\n",
              "        </style>\n",
              "      <progress value='10' class='' max='10' style='width:300px; height:20px; vertical-align: middle;'></progress>\n",
              "      100.00% [10/10 00:00<00:00]\n",
              "    </div>\n",
              "    "
            ],
            "text/plain": [
              "<IPython.core.display.HTML object>"
            ]
          },
          "metadata": {
            "tags": []
          }
        },
        {
          "output_type": "stream",
          "text": [
            "2020-08-15 00:40:00,073 - INFO - [Prediction on 899616723a32409c996f6f3441646c2a] done in 0.45 s\n",
            "2020-08-15 00:40:00,075 - INFO - [Loading 9cc5d9646f344f1bbb52640a988fe902] start\n",
            "2020-08-15 00:40:03,504 - INFO - [Loading 9cc5d9646f344f1bbb52640a988fe902] done in 3.43 s\n",
            "2020-08-15 00:40:03,509 - INFO - [Prediction on 9cc5d9646f344f1bbb52640a988fe902] start\n"
          ],
          "name": "stderr"
        },
        {
          "output_type": "display_data",
          "data": {
            "text/html": [
              "\n",
              "    <div>\n",
              "        <style>\n",
              "            /* Turns off some styling */\n",
              "            progress {\n",
              "                /* gets rid of default border in Firefox and Opera. */\n",
              "                border: none;\n",
              "                /* Needs to be in here for Safari polyfill so background images work as expected. */\n",
              "                background-size: auto;\n",
              "            }\n",
              "            .progress-bar-interrupted, .progress-bar-interrupted::-webkit-progress-bar {\n",
              "                background: #F44336;\n",
              "            }\n",
              "        </style>\n",
              "      <progress value='1' class='' max='1' style='width:300px; height:20px; vertical-align: middle;'></progress>\n",
              "      100.00% [1/1 00:03<00:00]\n",
              "    </div>\n",
              "    "
            ],
            "text/plain": [
              "<IPython.core.display.HTML object>"
            ]
          },
          "metadata": {
            "tags": []
          }
        },
        {
          "output_type": "stream",
          "text": [
            "2020-08-15 00:40:06,613 - INFO - [Prediction on 9cc5d9646f344f1bbb52640a988fe902] done in 3.10 s\n",
            "2020-08-15 00:40:06,615 - INFO - [Loading a56e20a518684688a9952add8a9d5213] start\n",
            "2020-08-15 00:40:07,349 - INFO - [Loading a56e20a518684688a9952add8a9d5213] done in 0.73 s\n",
            "2020-08-15 00:40:07,355 - INFO - [Prediction on a56e20a518684688a9952add8a9d5213] start\n"
          ],
          "name": "stderr"
        },
        {
          "output_type": "display_data",
          "data": {
            "text/html": [
              "\n",
              "    <div>\n",
              "        <style>\n",
              "            /* Turns off some styling */\n",
              "            progress {\n",
              "                /* gets rid of default border in Firefox and Opera. */\n",
              "                border: none;\n",
              "                /* Needs to be in here for Safari polyfill so background images work as expected. */\n",
              "                background-size: auto;\n",
              "            }\n",
              "            .progress-bar-interrupted, .progress-bar-interrupted::-webkit-progress-bar {\n",
              "                background: #F44336;\n",
              "            }\n",
              "        </style>\n",
              "      <progress value='1' class='' max='1' style='width:300px; height:20px; vertical-align: middle;'></progress>\n",
              "      100.00% [1/1 00:01<00:00]\n",
              "    </div>\n",
              "    "
            ],
            "text/plain": [
              "<IPython.core.display.HTML object>"
            ]
          },
          "metadata": {
            "tags": []
          }
        },
        {
          "output_type": "stream",
          "text": [
            "2020-08-15 00:40:08,408 - INFO - [Prediction on a56e20a518684688a9952add8a9d5213] done in 1.05 s\n",
            "2020-08-15 00:40:08,411 - INFO - [Loading 96779836288745728306903d54e264dd] start\n",
            "2020-08-15 00:40:09,009 - INFO - [Loading 96779836288745728306903d54e264dd] done in 0.60 s\n",
            "2020-08-15 00:40:09,015 - INFO - [Prediction on 96779836288745728306903d54e264dd] start\n"
          ],
          "name": "stderr"
        },
        {
          "output_type": "display_data",
          "data": {
            "text/html": [
              "\n",
              "    <div>\n",
              "        <style>\n",
              "            /* Turns off some styling */\n",
              "            progress {\n",
              "                /* gets rid of default border in Firefox and Opera. */\n",
              "                border: none;\n",
              "                /* Needs to be in here for Safari polyfill so background images work as expected. */\n",
              "                background-size: auto;\n",
              "            }\n",
              "            .progress-bar-interrupted, .progress-bar-interrupted::-webkit-progress-bar {\n",
              "                background: #F44336;\n",
              "            }\n",
              "        </style>\n",
              "      <progress value='1' class='' max='1' style='width:300px; height:20px; vertical-align: middle;'></progress>\n",
              "      100.00% [1/1 00:01<00:00]\n",
              "    </div>\n",
              "    "
            ],
            "text/plain": [
              "<IPython.core.display.HTML object>"
            ]
          },
          "metadata": {
            "tags": []
          }
        },
        {
          "output_type": "stream",
          "text": [
            "2020-08-15 00:40:10,333 - INFO - [Prediction on 96779836288745728306903d54e264dd] done in 1.32 s\n",
            "2020-08-15 00:40:10,335 - INFO - [Loading f77783ba4c6641bc918b034a18c23e53] start\n",
            "2020-08-15 00:40:10,799 - INFO - [Loading f77783ba4c6641bc918b034a18c23e53] done in 0.46 s\n",
            "2020-08-15 00:40:10,804 - INFO - [Prediction on f77783ba4c6641bc918b034a18c23e53] start\n"
          ],
          "name": "stderr"
        },
        {
          "output_type": "display_data",
          "data": {
            "text/html": [
              "\n",
              "    <div>\n",
              "        <style>\n",
              "            /* Turns off some styling */\n",
              "            progress {\n",
              "                /* gets rid of default border in Firefox and Opera. */\n",
              "                border: none;\n",
              "                /* Needs to be in here for Safari polyfill so background images work as expected. */\n",
              "                background-size: auto;\n",
              "            }\n",
              "            .progress-bar-interrupted, .progress-bar-interrupted::-webkit-progress-bar {\n",
              "                background: #F44336;\n",
              "            }\n",
              "        </style>\n",
              "      <progress value='1' class='' max='1' style='width:300px; height:20px; vertical-align: middle;'></progress>\n",
              "      100.00% [1/1 00:00<00:00]\n",
              "    </div>\n",
              "    "
            ],
            "text/plain": [
              "<IPython.core.display.HTML object>"
            ]
          },
          "metadata": {
            "tags": []
          }
        },
        {
          "output_type": "stream",
          "text": [
            "2020-08-15 00:40:10,853 - INFO - [Prediction on f77783ba4c6641bc918b034a18c23e53] done in 0.05 s\n",
            "2020-08-15 00:40:10,856 - INFO - [Loading 856b194b097441958697c2bcd1f63982] start\n",
            "2020-08-15 00:40:11,567 - INFO - [Loading 856b194b097441958697c2bcd1f63982] done in 0.71 s\n",
            "2020-08-15 00:40:11,573 - INFO - [Prediction on 856b194b097441958697c2bcd1f63982] start\n"
          ],
          "name": "stderr"
        },
        {
          "output_type": "display_data",
          "data": {
            "text/html": [
              "\n",
              "    <div>\n",
              "        <style>\n",
              "            /* Turns off some styling */\n",
              "            progress {\n",
              "                /* gets rid of default border in Firefox and Opera. */\n",
              "                border: none;\n",
              "                /* Needs to be in here for Safari polyfill so background images work as expected. */\n",
              "                background-size: auto;\n",
              "            }\n",
              "            .progress-bar-interrupted, .progress-bar-interrupted::-webkit-progress-bar {\n",
              "                background: #F44336;\n",
              "            }\n",
              "        </style>\n",
              "      <progress value='1' class='' max='1' style='width:300px; height:20px; vertical-align: middle;'></progress>\n",
              "      100.00% [1/1 00:00<00:00]\n",
              "    </div>\n",
              "    "
            ],
            "text/plain": [
              "<IPython.core.display.HTML object>"
            ]
          },
          "metadata": {
            "tags": []
          }
        },
        {
          "output_type": "stream",
          "text": [
            "2020-08-15 00:40:11,759 - INFO - [Prediction on 856b194b097441958697c2bcd1f63982] done in 0.19 s\n"
          ],
          "name": "stderr"
        }
      ]
    },
    {
      "cell_type": "code",
      "metadata": {
        "id": "lI99guLWyMDj",
        "colab_type": "code",
        "colab": {
          "base_uri": "https://localhost:8080/",
          "height": 419
        },
        "outputId": "c30db7f0-fb5a-4f42-c967-5f14a8131b25"
      },
      "source": [
        "submission"
      ],
      "execution_count": 19,
      "outputs": [
        {
          "output_type": "execute_result",
          "data": {
            "text/html": [
              "<div>\n",
              "<style scoped>\n",
              "    .dataframe tbody tr th:only-of-type {\n",
              "        vertical-align: middle;\n",
              "    }\n",
              "\n",
              "    .dataframe tbody tr th {\n",
              "        vertical-align: top;\n",
              "    }\n",
              "\n",
              "    .dataframe thead th {\n",
              "        text-align: right;\n",
              "    }\n",
              "</style>\n",
              "<table border=\"1\" class=\"dataframe\">\n",
              "  <thead>\n",
              "    <tr style=\"text-align: right;\">\n",
              "      <th></th>\n",
              "      <th>row_id</th>\n",
              "      <th>birds</th>\n",
              "    </tr>\n",
              "  </thead>\n",
              "  <tbody>\n",
              "    <tr>\n",
              "      <th>0</th>\n",
              "      <td>site_1_41e6fe6504a34bf6846938ba78d13df1_5</td>\n",
              "      <td>aldfly</td>\n",
              "    </tr>\n",
              "    <tr>\n",
              "      <th>1</th>\n",
              "      <td>site_1_41e6fe6504a34bf6846938ba78d13df1_10</td>\n",
              "      <td>aldfly</td>\n",
              "    </tr>\n",
              "    <tr>\n",
              "      <th>2</th>\n",
              "      <td>site_1_41e6fe6504a34bf6846938ba78d13df1_15</td>\n",
              "      <td>aldfly</td>\n",
              "    </tr>\n",
              "    <tr>\n",
              "      <th>3</th>\n",
              "      <td>site_1_41e6fe6504a34bf6846938ba78d13df1_20</td>\n",
              "      <td>nocall</td>\n",
              "    </tr>\n",
              "    <tr>\n",
              "      <th>4</th>\n",
              "      <td>site_1_41e6fe6504a34bf6846938ba78d13df1_25</td>\n",
              "      <td>aldfly</td>\n",
              "    </tr>\n",
              "    <tr>\n",
              "      <th>...</th>\n",
              "      <td>...</td>\n",
              "      <td>...</td>\n",
              "    </tr>\n",
              "    <tr>\n",
              "      <th>71</th>\n",
              "      <td>site_3_9cc5d9646f344f1bbb52640a988fe902</td>\n",
              "      <td>aldfly</td>\n",
              "    </tr>\n",
              "    <tr>\n",
              "      <th>72</th>\n",
              "      <td>site_3_a56e20a518684688a9952add8a9d5213</td>\n",
              "      <td>aldfly</td>\n",
              "    </tr>\n",
              "    <tr>\n",
              "      <th>73</th>\n",
              "      <td>site_3_96779836288745728306903d54e264dd</td>\n",
              "      <td>aldfly</td>\n",
              "    </tr>\n",
              "    <tr>\n",
              "      <th>74</th>\n",
              "      <td>site_3_f77783ba4c6641bc918b034a18c23e53</td>\n",
              "      <td>aldfly</td>\n",
              "    </tr>\n",
              "    <tr>\n",
              "      <th>75</th>\n",
              "      <td>site_3_856b194b097441958697c2bcd1f63982</td>\n",
              "      <td>aldfly</td>\n",
              "    </tr>\n",
              "  </tbody>\n",
              "</table>\n",
              "<p>76 rows × 2 columns</p>\n",
              "</div>"
            ],
            "text/plain": [
              "                                        row_id   birds\n",
              "0    site_1_41e6fe6504a34bf6846938ba78d13df1_5  aldfly\n",
              "1   site_1_41e6fe6504a34bf6846938ba78d13df1_10  aldfly\n",
              "2   site_1_41e6fe6504a34bf6846938ba78d13df1_15  aldfly\n",
              "3   site_1_41e6fe6504a34bf6846938ba78d13df1_20  nocall\n",
              "4   site_1_41e6fe6504a34bf6846938ba78d13df1_25  aldfly\n",
              "..                                         ...     ...\n",
              "71     site_3_9cc5d9646f344f1bbb52640a988fe902  aldfly\n",
              "72     site_3_a56e20a518684688a9952add8a9d5213  aldfly\n",
              "73     site_3_96779836288745728306903d54e264dd  aldfly\n",
              "74     site_3_f77783ba4c6641bc918b034a18c23e53  aldfly\n",
              "75     site_3_856b194b097441958697c2bcd1f63982  aldfly\n",
              "\n",
              "[76 rows x 2 columns]"
            ]
          },
          "metadata": {
            "tags": []
          },
          "execution_count": 19
        }
      ]
    }
  ]
}